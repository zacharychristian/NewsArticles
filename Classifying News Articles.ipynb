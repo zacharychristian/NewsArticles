{
 "cells": [
  {
   "cell_type": "code",
   "execution_count": 1,
   "metadata": {},
   "outputs": [],
   "source": [
    "import pandas as pd\n",
    "import numpy as np\n",
    "import seaborn as sns\n",
    "import matplotlib.pyplot as plt\n",
    "import statsmodels.api as sm\n",
    "import statsmodels.formula.api as smf\n",
    "from scipy import sparse as sps\n",
    "import sklearn\n",
    "from sklearn.pipeline import Pipeline\n",
    "from sklearn.preprocessing import StandardScaler\n",
    "from sklearn.metrics import precision_score, accuracy_score\n",
    "from pathlib import Path\n",
    "from sklearn.feature_extraction.text import CountVectorizer\n",
    "from sklearn.naive_bayes import MultinomialNB\n",
    "from sklearn.neighbors import KNeighborsClassifier\n",
    "from sklearn.model_selection import GridSearchCV\n",
    "from sklearn.feature_extraction.text import TfidfVectorizer\n",
    "from sklearn.metrics import make_scorer\n",
    "from sklearn.decomposition import TruncatedSVD\n",
    "from sklearn.cluster import KMeans\n",
    "from sklearn.manifold import TSNE"
   ]
  },
  {
   "cell_type": "markdown",
   "metadata": {},
   "source": [
    "# Classifying News Articles\n",
    "\n",
    "In this project, I will create models that classify news articles based on word counts. The models I will be using are Naive Bayes, K Nearest Neighbor, and KMeans. I will also be applying some techniques like dimensionality reduction and automated hyperparameter decisions. \n",
    "\n",
    "In order to use text as data, I will need to use a vectorizer. In this project, I use TFIDFVectorizer. The way a vectorizer works is it first takes in the word counts of a document and turns each word into a vector. TFIDF stands for term frequency inverse document frquency. This means that words that don't appear as often have a higher weight to them. This means that words that are specific to a certain category have a higher weight to them, making it easier to categorize them correctly. All of the vectors in a document are put together into a matrix. Accuracies of models are calculated using cosine similarity. \n",
    "\n",
    "Dimensionality reduction is used in this project to reduce time and size costs. \n",
    "\n",
    "I will use pipelines in this project quite a bit because I believe it reflects a real life project more. Pipelines provide more reuseability and can be easier to see what is happening under the hood."
   ]
  },
  {
   "cell_type": "markdown",
   "metadata": {},
   "source": [
    "## Getting Data Ready\n",
    "\n",
    "Obtaining data, putting it into a dataframe, making training and testing sets, and describing the categories of articles."
   ]
  },
  {
   "cell_type": "code",
   "execution_count": 2,
   "metadata": {},
   "outputs": [],
   "source": [
    "rng = np.random.RandomState(20201024)"
   ]
  },
  {
   "cell_type": "code",
   "execution_count": 3,
   "metadata": {},
   "outputs": [],
   "source": [
    "#Takes in observations from multiple datasets. Puts them into one dataframe\n",
    "articles = pd.DataFrame.from_records(\n",
    "    ((f.parent.name, f.name, f.read_text(encoding='latin1'))\n",
    "     for f in Path('bbc').glob('*/*.txt')),\n",
    "    columns=['category', 'file', 'text']\n",
    ")"
   ]
  },
  {
   "cell_type": "code",
   "execution_count": 4,
   "metadata": {},
   "outputs": [
    {
     "data": {
      "text/html": [
       "<div>\n",
       "<style scoped>\n",
       "    .dataframe tbody tr th:only-of-type {\n",
       "        vertical-align: middle;\n",
       "    }\n",
       "\n",
       "    .dataframe tbody tr th {\n",
       "        vertical-align: top;\n",
       "    }\n",
       "\n",
       "    .dataframe thead th {\n",
       "        text-align: right;\n",
       "    }\n",
       "</style>\n",
       "<table border=\"1\" class=\"dataframe\">\n",
       "  <thead>\n",
       "    <tr style=\"text-align: right;\">\n",
       "      <th></th>\n",
       "      <th>category</th>\n",
       "      <th>file</th>\n",
       "      <th>text</th>\n",
       "    </tr>\n",
       "  </thead>\n",
       "  <tbody>\n",
       "    <tr>\n",
       "      <th>0</th>\n",
       "      <td>business</td>\n",
       "      <td>001.txt</td>\n",
       "      <td>Ad sales boost Time Warner profit\\n\\nQuarterly...</td>\n",
       "    </tr>\n",
       "    <tr>\n",
       "      <th>1</th>\n",
       "      <td>business</td>\n",
       "      <td>002.txt</td>\n",
       "      <td>Dollar gains on Greenspan speech\\n\\nThe dollar...</td>\n",
       "    </tr>\n",
       "    <tr>\n",
       "      <th>2</th>\n",
       "      <td>business</td>\n",
       "      <td>003.txt</td>\n",
       "      <td>Yukos unit buyer faces loan claim\\n\\nThe owner...</td>\n",
       "    </tr>\n",
       "    <tr>\n",
       "      <th>3</th>\n",
       "      <td>business</td>\n",
       "      <td>004.txt</td>\n",
       "      <td>High fuel prices hit BA's profits\\n\\nBritish A...</td>\n",
       "    </tr>\n",
       "    <tr>\n",
       "      <th>4</th>\n",
       "      <td>business</td>\n",
       "      <td>005.txt</td>\n",
       "      <td>Pernod takeover talk lifts Domecq\\n\\nShares in...</td>\n",
       "    </tr>\n",
       "    <tr>\n",
       "      <th>...</th>\n",
       "      <td>...</td>\n",
       "      <td>...</td>\n",
       "      <td>...</td>\n",
       "    </tr>\n",
       "    <tr>\n",
       "      <th>2220</th>\n",
       "      <td>tech</td>\n",
       "      <td>397.txt</td>\n",
       "      <td>BT program to beat dialler scams\\n\\nBT is intr...</td>\n",
       "    </tr>\n",
       "    <tr>\n",
       "      <th>2221</th>\n",
       "      <td>tech</td>\n",
       "      <td>398.txt</td>\n",
       "      <td>Spam e-mails tempt net shoppers\\n\\nComputer us...</td>\n",
       "    </tr>\n",
       "    <tr>\n",
       "      <th>2222</th>\n",
       "      <td>tech</td>\n",
       "      <td>399.txt</td>\n",
       "      <td>Be careful how you code\\n\\nA new European dire...</td>\n",
       "    </tr>\n",
       "    <tr>\n",
       "      <th>2223</th>\n",
       "      <td>tech</td>\n",
       "      <td>400.txt</td>\n",
       "      <td>US cyber security chief resigns\\n\\nThe man mak...</td>\n",
       "    </tr>\n",
       "    <tr>\n",
       "      <th>2224</th>\n",
       "      <td>tech</td>\n",
       "      <td>401.txt</td>\n",
       "      <td>Losing yourself in online gaming\\n\\nOnline rol...</td>\n",
       "    </tr>\n",
       "  </tbody>\n",
       "</table>\n",
       "<p>2225 rows × 3 columns</p>\n",
       "</div>"
      ],
      "text/plain": [
       "      category     file                                               text\n",
       "0     business  001.txt  Ad sales boost Time Warner profit\\n\\nQuarterly...\n",
       "1     business  002.txt  Dollar gains on Greenspan speech\\n\\nThe dollar...\n",
       "2     business  003.txt  Yukos unit buyer faces loan claim\\n\\nThe owner...\n",
       "3     business  004.txt  High fuel prices hit BA's profits\\n\\nBritish A...\n",
       "4     business  005.txt  Pernod takeover talk lifts Domecq\\n\\nShares in...\n",
       "...        ...      ...                                                ...\n",
       "2220      tech  397.txt  BT program to beat dialler scams\\n\\nBT is intr...\n",
       "2221      tech  398.txt  Spam e-mails tempt net shoppers\\n\\nComputer us...\n",
       "2222      tech  399.txt  Be careful how you code\\n\\nA new European dire...\n",
       "2223      tech  400.txt  US cyber security chief resigns\\n\\nThe man mak...\n",
       "2224      tech  401.txt  Losing yourself in online gaming\\n\\nOnline rol...\n",
       "\n",
       "[2225 rows x 3 columns]"
      ]
     },
     "execution_count": 4,
     "metadata": {},
     "output_type": "execute_result"
    }
   ],
   "source": [
    "articles"
   ]
  },
  {
   "cell_type": "code",
   "execution_count": 5,
   "metadata": {},
   "outputs": [],
   "source": [
    "#Make training and testing masks\n",
    "test = articles.sample(frac=0.20, random_state=rng)\n",
    "train_mask = pd.Series(True, index=articles.index)\n",
    "train_mask[test.index] = False\n",
    "train = articles[train_mask].copy()"
   ]
  },
  {
   "cell_type": "code",
   "execution_count": 6,
   "metadata": {},
   "outputs": [
    {
     "data": {
      "text/plain": [
       "sport            511\n",
       "business         510\n",
       "politics         417\n",
       "tech             401\n",
       "entertainment    386\n",
       "Name: category, dtype: int64"
      ]
     },
     "execution_count": 6,
     "metadata": {},
     "output_type": "execute_result"
    }
   ],
   "source": [
    "articles['category'].value_counts()"
   ]
  },
  {
   "cell_type": "code",
   "execution_count": 7,
   "metadata": {},
   "outputs": [
    {
     "data": {
      "text/plain": [
       "<AxesSubplot:xlabel='category', ylabel='count'>"
      ]
     },
     "execution_count": 7,
     "metadata": {},
     "output_type": "execute_result"
    },
    {
     "data": {
      "image/png": "[encoded data removed]",
      "text/plain": [
       "<Figure size 432x288 with 1 Axes>"
      ]
     },
     "metadata": {
      "needs_background": "light"
     },
     "output_type": "display_data"
    }
   ],
   "source": [
    "sns.countplot(x=articles['category'])"
   ]
  },
  {
   "cell_type": "markdown",
   "metadata": {},
   "source": [
    "## Naive Bayes Classifier\n",
    "\n",
    "A simple model that is often quite effective."
   ]
  },
  {
   "cell_type": "code",
   "execution_count": 8,
   "metadata": {},
   "outputs": [
    {
     "data": {
      "text/plain": [
       "Pipeline(steps=[('parse', CountVectorizer()),\n",
       "                ('bayes-classify', MultinomialNB())])"
      ]
     },
     "execution_count": 8,
     "metadata": {},
     "output_type": "execute_result"
    }
   ],
   "source": [
    "#A list of stop words to get rid of. Deletion of stop words should only have a positive effect on classification\n",
    "stopWords = ['the','to','and','in','of','but','for','it','was','have','on','that','with','at','is','are','be','or',\n",
    "            'he','his','we','not','has','they','its','by']\n",
    "\n",
    "\n",
    "bayesPipe = Pipeline([\n",
    "    ('parse', CountVectorizer()), #Turns each word into a vector with a wordcount\n",
    "    ('bayes-classify', MultinomialNB()) #Naive Bayes\n",
    "])\n",
    "bayesPipe.fit(train['text'], train['category'])"
   ]
  },
  {
   "cell_type": "code",
   "execution_count": 9,
   "metadata": {},
   "outputs": [
    {
     "data": {
      "text/plain": [
       "0.994943820224719"
      ]
     },
     "execution_count": 9,
     "metadata": {},
     "output_type": "execute_result"
    }
   ],
   "source": [
    "#Training accuracy\n",
    "(bayesPipe.predict(train['text']) == train['category']).mean()"
   ]
  },
  {
   "cell_type": "code",
   "execution_count": 10,
   "metadata": {},
   "outputs": [
    {
     "data": {
      "text/plain": [
       "0.9730337078651685"
      ]
     },
     "execution_count": 10,
     "metadata": {},
     "output_type": "execute_result"
    }
   ],
   "source": [
    "#Testing accuracy\n",
    "(bayesPipe.predict(test['text']) == test['category']).mean()"
   ]
  },
  {
   "cell_type": "markdown",
   "metadata": {},
   "source": [
    "A 97% accuracy rate is very good for this kind of question. Let's see if this accuracy can be increased by using other models."
   ]
  },
  {
   "cell_type": "markdown",
   "metadata": {},
   "source": [
    "## K Nearest Neighbor\n",
    "\n",
    "Use TFIDVectorizer to turn words into vectors and then vectors into a matrix. Then use KNN to try and classify into the correct article category. "
   ]
  },
  {
   "cell_type": "code",
   "execution_count": 11,
   "metadata": {},
   "outputs": [],
   "source": [
    "#Make a pipeline using Tfid vectorizer to convert data into usable form. Then use KNN on data\n",
    "knnPipe = Pipeline([\n",
    "    ('tfid',TfidfVectorizer(stop_words=stopWords)),\n",
    "    ('knn',KNeighborsClassifier())\n",
    "])"
   ]
  },
  {
   "cell_type": "code",
   "execution_count": 12,
   "metadata": {},
   "outputs": [
    {
     "data": {
      "text/plain": [
       "Pipeline(steps=[('tfid',\n",
       "                 TfidfVectorizer(stop_words=['the', 'to', 'and', 'in', 'of',\n",
       "                                             'but', 'for', 'it', 'was', 'have',\n",
       "                                             'on', 'that', 'with', 'at', 'is',\n",
       "                                             'are', 'be', 'or', 'he', 'his',\n",
       "                                             'we', 'not', 'has', 'they', 'its',\n",
       "                                             'by'])),\n",
       "                ('knn', KNeighborsClassifier())])"
      ]
     },
     "execution_count": 12,
     "metadata": {},
     "output_type": "execute_result"
    }
   ],
   "source": [
    "#Fit to training data\n",
    "knnPipe.fit(train['text'], train['category'])"
   ]
  },
  {
   "cell_type": "code",
   "execution_count": 13,
   "metadata": {},
   "outputs": [
    {
     "data": {
      "text/plain": [
       "0.9674157303370786"
      ]
     },
     "execution_count": 13,
     "metadata": {},
     "output_type": "execute_result"
    }
   ],
   "source": [
    "#Training accuracy\n",
    "(knnPipe.predict(train['text']) == train['category']).mean()"
   ]
  },
  {
   "cell_type": "code",
   "execution_count": 14,
   "metadata": {},
   "outputs": [
    {
     "data": {
      "text/plain": [
       "0.9235955056179775"
      ]
     },
     "execution_count": 14,
     "metadata": {},
     "output_type": "execute_result"
    }
   ],
   "source": [
    "#Testing accuracy\n",
    "(knnPipe.predict(test['text']) == test['category']).mean()"
   ]
  },
  {
   "cell_type": "markdown",
   "metadata": {},
   "source": [
    "That is a pretty good testing accuracy. But Naive Bayes still performed better. Let's see if we can increase accuracy by using GridSearchCV to find the best hyperparameter K."
   ]
  },
  {
   "cell_type": "code",
   "execution_count": 15,
   "metadata": {},
   "outputs": [
    {
     "data": {
      "text/plain": [
       "Pipeline(steps=[('parse',\n",
       "                 TfidfVectorizer(stop_words=['the', 'to', 'and', 'in', 'of',\n",
       "                                             'but', 'for', 'it', 'was', 'have',\n",
       "                                             'on', 'that', 'with', 'at', 'is',\n",
       "                                             'are', 'be', 'or', 'he', 'his',\n",
       "                                             'we', 'not', 'has', 'they', 'its',\n",
       "                                             'by'])),\n",
       "                ('cvclass',\n",
       "                 GridSearchCV(estimator=KNeighborsClassifier(),\n",
       "                              param_grid={'n_neighbors': [1, 2, 3, 5, 7, 10]},\n",
       "                              scoring=make_scorer(accuracy_score)))])"
      ]
     },
     "execution_count": 15,
     "metadata": {},
     "output_type": "execute_result"
    }
   ],
   "source": [
    "knnCvPipe = Pipeline([\n",
    "    ('parse', TfidfVectorizer(stop_words=stopWords)),\n",
    "    ('cvclass', GridSearchCV(KNeighborsClassifier(), { #Search for the best hyperparameter\n",
    "        'n_neighbors': [1, 2, 3, 5, 7, 10] # A few number of neighbors to choose from.\n",
    "    }, scoring=make_scorer(accuracy_score)))\n",
    "])\n",
    "knnCvPipe.fit(train['text'], train['category'])"
   ]
  },
  {
   "cell_type": "code",
   "execution_count": 16,
   "metadata": {},
   "outputs": [
    {
     "data": {
      "text/plain": [
       "KNeighborsClassifier(n_neighbors=10)"
      ]
     },
     "execution_count": 16,
     "metadata": {},
     "output_type": "execute_result"
    }
   ],
   "source": [
    "#Neighborhood size the tuning selected.\n",
    "knnCvPipe['cvclass'].best_estimator_"
   ]
  },
  {
   "cell_type": "markdown",
   "metadata": {},
   "source": [
    "GridSearchCV found that the best hyperparameter is K = 10."
   ]
  },
  {
   "cell_type": "code",
   "execution_count": 17,
   "metadata": {},
   "outputs": [
    {
     "data": {
      "text/plain": [
       "0.9303370786516854"
      ]
     },
     "execution_count": 17,
     "metadata": {},
     "output_type": "execute_result"
    }
   ],
   "source": [
    "#Testing accuracy\n",
    "accuracy_score(test['category'], knnCvPipe.predict(test['text']))"
   ]
  },
  {
   "cell_type": "markdown",
   "metadata": {},
   "source": [
    "Well 0.93 is better than 0.92, the accuracy of the previous KNN model, but only by a little bit. "
   ]
  },
  {
   "cell_type": "markdown",
   "metadata": {},
   "source": [
    "## Using Dimensionality Reduction \n",
    "\n",
    "Utilize TruncatedSVD to reduce the dimensionality of matrices. Then perform KNN."
   ]
  },
  {
   "cell_type": "code",
   "execution_count": 18,
   "metadata": {},
   "outputs": [
    {
     "data": {
      "text/plain": [
       "Pipeline(steps=[('parse',\n",
       "                 TfidfVectorizer(stop_words=['the', 'to', 'and', 'in', 'of',\n",
       "                                             'but', 'for', 'it', 'was', 'have',\n",
       "                                             'on', 'that', 'with', 'at', 'is',\n",
       "                                             'are', 'be', 'or', 'he', 'his',\n",
       "                                             'we', 'not', 'has', 'they', 'its',\n",
       "                                             'by'])),\n",
       "                ('svd',\n",
       "                 TruncatedSVD(n_components=8,\n",
       "                              random_state=RandomState(MT19937) at 0x27C497BC040)),\n",
       "                ('knn-classify', KNeighborsClassifier())])"
      ]
     },
     "execution_count": 18,
     "metadata": {},
     "output_type": "execute_result"
    }
   ],
   "source": [
    "svdKnnPipe = Pipeline([\n",
    "    ('parse', TfidfVectorizer(stop_words=stopWords)), \n",
    "    ('svd', TruncatedSVD(8, random_state=rng)), #Reduce dimensions of matrices \n",
    "    ('knn-classify', KNeighborsClassifier(5)) \n",
    "])\n",
    "svdKnnPipe.fit(train['text'], train['category'])"
   ]
  },
  {
   "cell_type": "code",
   "execution_count": 19,
   "metadata": {},
   "outputs": [
    {
     "data": {
      "text/plain": [
       "0.9696629213483146"
      ]
     },
     "execution_count": 19,
     "metadata": {},
     "output_type": "execute_result"
    }
   ],
   "source": [
    "#Training accuracy\n",
    "(svdKnnPipe.predict(train['text']) == train['category']).mean()"
   ]
  },
  {
   "cell_type": "code",
   "execution_count": 20,
   "metadata": {},
   "outputs": [
    {
     "data": {
      "text/plain": [
       "0.946067415730337"
      ]
     },
     "execution_count": 20,
     "metadata": {},
     "output_type": "execute_result"
    }
   ],
   "source": [
    "#Testing accuracy\n",
    "(svdKnnPipe.predict(test['text']) == test['category']).mean()"
   ]
  },
  {
   "cell_type": "markdown",
   "metadata": {},
   "source": [
    "This accuracy is even better than the KNN model that picked out its own best hyperparameter. Looks like dimensionality reduction works. Naive Bayes still outperforms this model, however."
   ]
  },
  {
   "cell_type": "markdown",
   "metadata": {},
   "source": [
    "## Evaluating Accuracy\n",
    "\n",
    "Now I will put all of the accuracies into one graph to compare."
   ]
  },
  {
   "cell_type": "code",
   "execution_count": 21,
   "metadata": {},
   "outputs": [
    {
     "data": {
      "text/plain": [
       "NaiveBay    0.994944\n",
       "kNN         0.967416\n",
       "kNNCV       0.962360\n",
       "kNNSVD      0.969663\n",
       "dtype: float64"
      ]
     },
     "execution_count": 21,
     "metadata": {},
     "output_type": "execute_result"
    }
   ],
   "source": [
    "#Put all training accuracies into one dataframe\n",
    "trainFrame = pd.DataFrame({\n",
    "    'NaiveBay': bayesPipe.predict(train['text']),\n",
    "    'kNN': knnPipe.predict(train['text']),\n",
    "    'kNNCV': knnCvPipe.predict(train['text']),\n",
    "    'kNNSVD': svdKnnPipe.predict(train['text'])\n",
    "})\n",
    "trainAcc = trainFrame.apply(lambda s: accuracy_score(train['category'], s))\n",
    "trainAcc"
   ]
  },
  {
   "cell_type": "code",
   "execution_count": 22,
   "metadata": {},
   "outputs": [
    {
     "data": {
      "text/plain": [
       "NaiveBay    0.973034\n",
       "kNN         0.923596\n",
       "kNNCV       0.930337\n",
       "kNNSVD      0.946067\n",
       "dtype: float64"
      ]
     },
     "execution_count": 22,
     "metadata": {},
     "output_type": "execute_result"
    }
   ],
   "source": [
    "#Put all testing accuracies into one dataframe\n",
    "testFrame = pd.DataFrame({\n",
    "    'NaiveBay': bayesPipe.predict(test['text']),\n",
    "    'kNN': knnPipe.predict(test['text']),\n",
    "    'kNNCV': knnCvPipe.predict(test['text']),\n",
    "    'kNNSVD': svdKnnPipe.predict(test['text'])\n",
    "})\n",
    "testAcc = testFrame.apply(lambda s: accuracy_score(test['category'], s))\n",
    "testAcc"
   ]
  },
  {
   "cell_type": "code",
   "execution_count": 23,
   "metadata": {},
   "outputs": [
    {
     "data": {
      "text/html": [
       "<div>\n",
       "<style scoped>\n",
       "    .dataframe tbody tr th:only-of-type {\n",
       "        vertical-align: middle;\n",
       "    }\n",
       "\n",
       "    .dataframe tbody tr th {\n",
       "        vertical-align: top;\n",
       "    }\n",
       "\n",
       "    .dataframe thead th {\n",
       "        text-align: right;\n",
       "    }\n",
       "</style>\n",
       "<table border=\"1\" class=\"dataframe\">\n",
       "  <thead>\n",
       "    <tr style=\"text-align: right;\">\n",
       "      <th></th>\n",
       "      <th>Set</th>\n",
       "      <th>Algorithm</th>\n",
       "      <th>Accuracy</th>\n",
       "    </tr>\n",
       "  </thead>\n",
       "  <tbody>\n",
       "    <tr>\n",
       "      <th>0</th>\n",
       "      <td>Train</td>\n",
       "      <td>NaiveBay</td>\n",
       "      <td>0.994944</td>\n",
       "    </tr>\n",
       "    <tr>\n",
       "      <th>1</th>\n",
       "      <td>Train</td>\n",
       "      <td>kNN</td>\n",
       "      <td>0.967416</td>\n",
       "    </tr>\n",
       "    <tr>\n",
       "      <th>2</th>\n",
       "      <td>Train</td>\n",
       "      <td>kNNCV</td>\n",
       "      <td>0.962360</td>\n",
       "    </tr>\n",
       "    <tr>\n",
       "      <th>3</th>\n",
       "      <td>Train</td>\n",
       "      <td>kNNSVD</td>\n",
       "      <td>0.969663</td>\n",
       "    </tr>\n",
       "    <tr>\n",
       "      <th>4</th>\n",
       "      <td>Test</td>\n",
       "      <td>NaiveBay</td>\n",
       "      <td>0.973034</td>\n",
       "    </tr>\n",
       "    <tr>\n",
       "      <th>5</th>\n",
       "      <td>Test</td>\n",
       "      <td>kNN</td>\n",
       "      <td>0.923596</td>\n",
       "    </tr>\n",
       "    <tr>\n",
       "      <th>6</th>\n",
       "      <td>Test</td>\n",
       "      <td>kNNCV</td>\n",
       "      <td>0.930337</td>\n",
       "    </tr>\n",
       "    <tr>\n",
       "      <th>7</th>\n",
       "      <td>Test</td>\n",
       "      <td>kNNSVD</td>\n",
       "      <td>0.946067</td>\n",
       "    </tr>\n",
       "  </tbody>\n",
       "</table>\n",
       "</div>"
      ],
      "text/plain": [
       "     Set Algorithm  Accuracy\n",
       "0  Train  NaiveBay  0.994944\n",
       "1  Train       kNN  0.967416\n",
       "2  Train     kNNCV  0.962360\n",
       "3  Train    kNNSVD  0.969663\n",
       "4   Test  NaiveBay  0.973034\n",
       "5   Test       kNN  0.923596\n",
       "6   Test     kNNCV  0.930337\n",
       "7   Test    kNNSVD  0.946067"
      ]
     },
     "execution_count": 23,
     "metadata": {},
     "output_type": "execute_result"
    }
   ],
   "source": [
    "#Put both test and training accuracies into one dataframe.\n",
    "allModels = pd.concat({\n",
    "    'Train': trainAcc,\n",
    "    'Test': testAcc\n",
    "}, names=['Set', 'Algorithm']).reset_index(name='Accuracy')\n",
    "allModels"
   ]
  },
  {
   "cell_type": "code",
   "execution_count": 35,
   "metadata": {},
   "outputs": [
    {
     "name": "stderr",
     "output_type": "stream",
     "text": [
      "C:\\Users\\zacki\\anaconda3\\lib\\site-packages\\seaborn\\_decorators.py:36: FutureWarning: Pass the following variables as keyword args: x, y. From version 0.12, the only valid positional argument will be `data`, and passing other arguments without an explicit keyword will result in an error or misinterpretation.\n",
      "  warnings.warn(\n"
     ]
    },
    {
     "data": {
      "text/plain": [
       "<seaborn.axisgrid.FacetGrid at 0x27c51edb970>"
      ]
     },
     "execution_count": 35,
     "metadata": {},
     "output_type": "execute_result"
    },
    {
     "data": {
      "image/png": "[encoded data removed]",
      "text/plain": [
       "<Figure size 600x360 with 1 Axes>"
      ]
     },
     "metadata": {
      "needs_background": "light"
     },
     "output_type": "display_data"
    }
   ],
   "source": [
    "sns.catplot('Algorithm', 'Accuracy', hue='Set', data=allModels, kind='bar', aspect=1.5)"
   ]
  },
  {
   "cell_type": "markdown",
   "metadata": {},
   "source": [
    "Looks like all of the models performed similarly. The training sets have a higher accuracy than the testing sets, but it is nothing out of the ordinary. Just a little overfitting. Naive Bayes outperformed all of the other models by a somewhat small margin."
   ]
  },
  {
   "cell_type": "markdown",
   "metadata": {},
   "source": [
    "## Clustering\n",
    "\n",
    "Now I will use KMeans to try and classify articles into their respective category. There are 5 real categories."
   ]
  },
  {
   "cell_type": "code",
   "execution_count": 25,
   "metadata": {},
   "outputs": [],
   "source": [
    "#Create a pipeline that clusters the articles based on which important words are used the most. Uses KMeans.\n",
    "clusterPipe = Pipeline([\n",
    "    ('tfidVector',TfidfVectorizer(stop_words=stopWords)),\n",
    "    ('cluster',KMeans(5,random_state=rng)) #Use KMeans to cluster the articles into K = 5 clusters.\n",
    "])"
   ]
  },
  {
   "cell_type": "code",
   "execution_count": 26,
   "metadata": {},
   "outputs": [
    {
     "data": {
      "text/plain": [
       "Pipeline(steps=[('tfidVector',\n",
       "                 TfidfVectorizer(stop_words=['the', 'to', 'and', 'in', 'of',\n",
       "                                             'but', 'for', 'it', 'was', 'have',\n",
       "                                             'on', 'that', 'with', 'at', 'is',\n",
       "                                             'are', 'be', 'or', 'he', 'his',\n",
       "                                             'we', 'not', 'has', 'they', 'its',\n",
       "                                             'by'])),\n",
       "                ('cluster',\n",
       "                 KMeans(n_clusters=5,\n",
       "                        random_state=RandomState(MT19937) at 0x27C497BC040))])"
      ]
     },
     "execution_count": 26,
     "metadata": {},
     "output_type": "execute_result"
    }
   ],
   "source": [
    "clusterPipe.fit(train['text'])"
   ]
  },
  {
   "cell_type": "code",
   "execution_count": 27,
   "metadata": {},
   "outputs": [
    {
     "name": "stderr",
     "output_type": "stream",
     "text": [
      "C:\\Users\\zacki\\anaconda3\\lib\\site-packages\\seaborn\\_decorators.py:36: FutureWarning: Pass the following variable as a keyword arg: x. From version 0.12, the only valid positional argument will be `data`, and passing other arguments without an explicit keyword will result in an error or misinterpretation.\n",
      "  warnings.warn(\n"
     ]
    },
    {
     "data": {
      "text/plain": [
       "<seaborn.axisgrid.FacetGrid at 0x27c4c7fe4f0>"
      ]
     },
     "execution_count": 27,
     "metadata": {},
     "output_type": "execute_result"
    },
    {
     "data": {
      "image/png": "[encoded data removed]",
      "text/plain": [
       "<Figure size 1800x360 with 5 Axes>"
      ]
     },
     "metadata": {
      "needs_background": "light"
     },
     "output_type": "display_data"
    }
   ],
   "source": [
    "trainCluster = pd.DataFrame({\n",
    "    'category': train['category'],\n",
    "    'cluster': clusterPipe.named_steps['cluster'].labels_\n",
    "})\n",
    "sns.catplot('category', col='cluster', data=trainCluster, kind='count', sharey=False)"
   ]
  },
  {
   "cell_type": "markdown",
   "metadata": {},
   "source": [
    "When using 5 clusters, it appears that KMeans does a good job of picking which article is which category. Only the 1 and 3 clusters have more than a few misclassifications. "
   ]
  },
  {
   "cell_type": "markdown",
   "metadata": {},
   "source": [
    "### Using 6 Clusters instead of 5\n",
    "\n",
    "Since using 5 clusters worked so well, lets see what using KMeans with 6 clusters does. There are only 5 real categories of articles, so I expect 6 clusters to perform worse."
   ]
  },
  {
   "cell_type": "code",
   "execution_count": 28,
   "metadata": {},
   "outputs": [
    {
     "data": {
      "text/plain": [
       "Pipeline(steps=[('tfidVector',\n",
       "                 TfidfVectorizer(stop_words=['the', 'to', 'and', 'in', 'of',\n",
       "                                             'but', 'for', 'it', 'was', 'have',\n",
       "                                             'on', 'that', 'with', 'at', 'is',\n",
       "                                             'are', 'be', 'or', 'he', 'his',\n",
       "                                             'we', 'not', 'has', 'they', 'its',\n",
       "                                             'by'])),\n",
       "                ('cluster',\n",
       "                 KMeans(n_clusters=6,\n",
       "                        random_state=RandomState(MT19937) at 0x27C497BC040))])"
      ]
     },
     "execution_count": 28,
     "metadata": {},
     "output_type": "execute_result"
    }
   ],
   "source": [
    "kMeans6 = Pipeline([\n",
    "    ('tfidVector', TfidfVectorizer(stop_words=stopWords)),\n",
    "    ('cluster', KMeans(6, random_state=rng)) #Use 6 clusters\n",
    "])\n",
    "kMeans6.fit(train['text'])"
   ]
  },
  {
   "cell_type": "code",
   "execution_count": 29,
   "metadata": {},
   "outputs": [
    {
     "data": {
      "text/plain": [
       "<seaborn.axisgrid.FacetGrid at 0x27c4c89e1c0>"
      ]
     },
     "execution_count": 29,
     "metadata": {},
     "output_type": "execute_result"
    },
    {
     "data": {
      "image/png": "[encoded data removed]",
      "text/plain": [
       "<Figure size 2160x360 with 6 Axes>"
      ]
     },
     "metadata": {
      "needs_background": "light"
     },
     "output_type": "display_data"
    }
   ],
   "source": [
    "trainCluster1 = pd.DataFrame({\n",
    "    'category': train['category'],\n",
    "    'cluster': kMeans6.named_steps['cluster'].labels_\n",
    "})\n",
    "sns.catplot(x='category', col='cluster', data=trainCluster1, kind='count', sharey=False)"
   ]
  },
  {
   "cell_type": "markdown",
   "metadata": {},
   "source": [
    "This model performs worse than the KMeans model with 5 clusters. In the cluster 1 graph there is quite a lot of variance in which categories go to that cluster. The KMeans model with 5 clusters certainly worked better."
   ]
  },
  {
   "cell_type": "markdown",
   "metadata": {},
   "source": [
    "## Visualizing the Clusters\n",
    "\n",
    "I will use t-SNE or t-distributed Stochastic Neighbor Embedding to visualize the KMeans model with 6 clusters. This will hopefully help to understand the data better."
   ]
  },
  {
   "cell_type": "code",
   "execution_count": 30,
   "metadata": {},
   "outputs": [],
   "source": [
    "snePipe = Pipeline([\n",
    "    ('svd', TruncatedSVD(50, random_state=rng)), #50 recommended by TNSE docs\n",
    "    ('t-sne', TSNE(random_state=rng))\n",
    "])\n",
    "sne = TfidfVectorizer(stop_words=stopWords)\n",
    "trainSne = sne.fit_transform(train['text'])"
   ]
  },
  {
   "cell_type": "markdown",
   "metadata": {},
   "source": [
    "TSNE does not support transform, but it doesn support fit_transform. There are quite a few more articles than there are clusters, so this should not break much. "
   ]
  },
  {
   "cell_type": "code",
   "execution_count": 31,
   "metadata": {},
   "outputs": [],
   "source": [
    "#vstack stacks sparse matrices vertically\n",
    "tcMat = sps.vstack([trainSne, kMeans6.named_steps['cluster'].cluster_centers_]) \n",
    "\n",
    "fitSne = snePipe.fit_transform(tcMat)"
   ]
  },
  {
   "cell_type": "code",
   "execution_count": 32,
   "metadata": {},
   "outputs": [],
   "source": [
    "train_sne = pd.DataFrame(fitSne[:-6, :], columns=['SNE0', 'SNE1'], index=train.index)\n",
    "train_sne['category'] = train['category']"
   ]
  },
  {
   "cell_type": "code",
   "execution_count": 33,
   "metadata": {},
   "outputs": [
    {
     "name": "stderr",
     "output_type": "stream",
     "text": [
      "C:\\Users\\zacki\\anaconda3\\lib\\site-packages\\seaborn\\_decorators.py:36: FutureWarning: Pass the following variables as keyword args: x, y. From version 0.12, the only valid positional argument will be `data`, and passing other arguments without an explicit keyword will result in an error or misinterpretation.\n",
      "  warnings.warn(\n"
     ]
    },
    {
     "data": {
      "image/png": "[encoded data removed]",
      "text/plain": [
       "<Figure size 432x288 with 1 Axes>"
      ]
     },
     "metadata": {
      "needs_background": "light"
     },
     "output_type": "display_data"
    }
   ],
   "source": [
    "sns.scatterplot('SNE0', 'SNE1', hue='category', data=train_sne)\n",
    "plt.scatter(fitSne[-6:, 0], fitSne[-6:, 1], color='black', marker='+')\n",
    "plt.show()"
   ]
  },
  {
   "cell_type": "markdown",
   "metadata": {},
   "source": [
    "This is a visualization of the news articles. Most of the articles stay in their own general space, but it appears that some are in the space of other categories. This would probably have been caused by one type of article using lots of buzzwords typically used by a different category of article. For instance, an entertainment article about a hacker movie might contain lots of words that are usually only used by tech articles. "
   ]
  },
  {
   "cell_type": "code",
   "execution_count": null,
   "metadata": {},
   "outputs": [],
   "source": []
  }
 ],
 "metadata": {
  "kernelspec": {
   "display_name": "Python 3",
   "language": "python",
   "name": "python3"
  },
  "language_info": {
   "codemirror_mode": {
    "name": "ipython",
    "version": 3
   },
   "file_extension": ".py",
   "mimetype": "text/x-python",
   "name": "python",
   "nbconvert_exporter": "python",
   "pygments_lexer": "ipython3",
   "version": "3.8.5"
  }
 },
 "nbformat": 4,
 "nbformat_minor": 4
}
